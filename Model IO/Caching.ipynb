{
 "cells": [
  {
   "cell_type": "code",
   "execution_count": 2,
   "metadata": {},
   "outputs": [
    {
     "name": "stdout",
     "output_type": "stream",
     "text": [
      "Ingredients:\n",
      "- 2 cups cooked white rice\n",
      "- 1 cup assorted vegetables (such as carrots, spinach, mushrooms, zucchini, bean sprouts)\n",
      "- 1/2 cup protein (such as beef, chicken, tofu)\n",
      "- 2 eggs\n",
      "- 2 tablespoons soy sauce\n",
      "- 1 tablespoon sesame oil\n",
      "- 1 tablespoon gochujang (Korean chili paste)\n",
      "- 1 tablespoon sesame seeds\n",
      "- Salt and pepper to taste\n",
      "- Vegetable oil for cooking\n",
      "\n",
      "Instructions:\n",
      "1. Cook the rice according to package instructions and set aside.\n",
      "2. Prepare the vegetables by cutting them into small, bite-sized pieces. Cook each vegetable separately in a pan with a little vegetable oil until tender. Season with salt and pepper to taste.\n",
      "3. Cook the protein in a separate pan with a little vegetable oil until fully cooked. Season with salt and pepper to taste.\n",
      "4. In a small bowl, mix together the soy sauce, sesame oil, and gochujang to make the sauce.\n",
      "5. In a large bowl, add a serving of rice as the base. Arrange the cooked vegetables and protein on top of the rice.\n",
      "6. In a separate pan, fry the eggs sunny-side up or over easy.\n",
      "7. Place the fried egg on top of the vegetables and protein.\n",
      "8. Drizzle the sauce over the top of the bibimbap and sprinkle with sesame seeds.\n",
      "9. Mix everything together before eating to combine all the flavors.\n",
      "10. Enjoy your homemade Korean bibimbap!"
     ]
    },
    {
     "data": {
      "text/plain": [
       "'Ingredients:\\n- 2 cups cooked white rice\\n- 1 cup assorted vegetables (such as carrots, spinach, mushrooms, zucchini, bean sprouts)\\n- 1/2 cup protein (such as beef, chicken, tofu)\\n- 2 eggs\\n- 2 tablespoons soy sauce\\n- 1 tablespoon sesame oil\\n- 1 tablespoon gochujang (Korean chili paste)\\n- 1 tablespoon sesame seeds\\n- Salt and pepper to taste\\n- Vegetable oil for cooking\\n\\nInstructions:\\n1. Cook the rice according to package instructions and set aside.\\n2. Prepare the vegetables by cutting them into small, bite-sized pieces. Cook each vegetable separately in a pan with a little vegetable oil until tender. Season with salt and pepper to taste.\\n3. Cook the protein in a separate pan with a little vegetable oil until fully cooked. Season with salt and pepper to taste.\\n4. In a small bowl, mix together the soy sauce, sesame oil, and gochujang to make the sauce.\\n5. In a large bowl, add a serving of rice as the base. Arrange the cooked vegetables and protein on top of the rice.\\n6. In a separate pan, fry the eggs sunny-side up or over easy.\\n7. Place the fried egg on top of the vegetables and protein.\\n8. Drizzle the sauce over the top of the bibimbap and sprinkle with sesame seeds.\\n9. Mix everything together before eating to combine all the flavors.\\n10. Enjoy your homemade Korean bibimbap!'"
      ]
     },
     "execution_count": 2,
     "metadata": {},
     "output_type": "execute_result"
    }
   ],
   "source": [
    "from langchain.chat_models import ChatOpenAI\n",
    "from langchain.callbacks import StreamingStdOutCallbackHandler\n",
    "from langchain.globals import set_llm_cache\n",
    "from langchain.cache import InMemoryCache, SQLiteCache\n",
    "\n",
    "set_llm_cache(SQLiteCache(\"cache.db\"))\n",
    "\n",
    "chat = ChatOpenAI(\n",
    "    temperature = 0.1,\n",
    "    streaming = True,\n",
    "    callbacks = [\n",
    "        StreamingStdOutCallbackHandler()\n",
    "    ],\n",
    ")\n",
    "\n",
    "chat.predict(\"How to make korean bibimbap\")"
   ]
  }
 ],
 "metadata": {
  "kernelspec": {
   "display_name": "env",
   "language": "python",
   "name": "python3"
  },
  "language_info": {
   "codemirror_mode": {
    "name": "ipython",
    "version": 3
   },
   "file_extension": ".py",
   "mimetype": "text/x-python",
   "name": "python",
   "nbconvert_exporter": "python",
   "pygments_lexer": "ipython3",
   "version": "3.11.6"
  }
 },
 "nbformat": 4,
 "nbformat_minor": 2
}
