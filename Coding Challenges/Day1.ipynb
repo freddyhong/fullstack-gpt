{
 "cells": [
  {
   "cell_type": "code",
   "execution_count": 12,
   "metadata": {},
   "outputs": [
    {
     "name": "stdout",
     "output_type": "stream",
     "text": [
      "In C++'s embrace,\n",
      "Logic and beauty unite,\n",
      "Code sings with grace.\n",
      "\n",
      "A language profound,\n",
      "Endless possibilities,\n",
      "In C++ we're bound.\n",
      "\n",
      "Haikus are traditional Japanese poems consisting of three lines. The first line has 5 syllables, the second line has 7 syllables, and the third line has 5 syllables.\n",
      "\n",
      "\"In C++'s embrace,\" - This line sets the scene and introduces the subject of the haiku, which is C++ programming language. It conveys a sense of connection and intimacy with C++.\n",
      "\n",
      "\"Logic and beauty unite,\" - This line explores the qualities of C++, highlighting the harmony between logic and aesthetics in programming. It suggests that C++ combines both practicality and elegance.\n",
      "\n",
      "\"Code sings with grace.\" - This line concludes the haiku by expressing the idea that code written in C++ is not just functional but also elegant and graceful. It implies that programming in C++ can be a creative and artistic endeavor.\n",
      "\n",
      "\"A language profound,\" - This line emphasizes the depth and complexity of C++ as a programming language. It suggests that C++ is rich in features and capabilities, requiring a deep understanding to master.\n",
      "\n",
      "\"Endless possibilities,\" - This line conveys the idea that C++ offers a wide range of opportunities and potential for creativity. It suggests that there are countless ways to use C++ to solve problems and create innovative solutions.\n",
      "\n",
      "\"In C++ we're bound.\" - This line reflects a sense of commitment and dedication to C++. It implies that once you start using C++, you become immersed in its world and its possibilities, feeling connected and tied to it."
     ]
    },
    {
     "data": {
      "text/plain": [
       "AIMessageChunk(content='Haikus are traditional Japanese poems consisting of three lines. The first line has 5 syllables, the second line has 7 syllables, and the third line has 5 syllables.\\n\\n\"In C++\\'s embrace,\" - This line sets the scene and introduces the subject of the haiku, which is C++ programming language. It conveys a sense of connection and intimacy with C++.\\n\\n\"Logic and beauty unite,\" - This line explores the qualities of C++, highlighting the harmony between logic and aesthetics in programming. It suggests that C++ combines both practicality and elegance.\\n\\n\"Code sings with grace.\" - This line concludes the haiku by expressing the idea that code written in C++ is not just functional but also elegant and graceful. It implies that programming in C++ can be a creative and artistic endeavor.\\n\\n\"A language profound,\" - This line emphasizes the depth and complexity of C++ as a programming language. It suggests that C++ is rich in features and capabilities, requiring a deep understanding to master.\\n\\n\"Endless possibilities,\" - This line conveys the idea that C++ offers a wide range of opportunities and potential for creativity. It suggests that there are countless ways to use C++ to solve problems and create innovative solutions.\\n\\n\"In C++ we\\'re bound.\" - This line reflects a sense of commitment and dedication to C++. It implies that once you start using C++, you become immersed in its world and its possibilities, feeling connected and tied to it.')"
      ]
     },
     "execution_count": 12,
     "metadata": {},
     "output_type": "execute_result"
    }
   ],
   "source": [
    "from langchain.chat_models import ChatOpenAI\n",
    "from langchain.prompts import ChatPromptTemplate\n",
    "from langchain.callbacks import StreamingStdOutCallbackHandler\n",
    "from langchain.prompts.few_shot import FewShotPromptTemplate\n",
    "\n",
    "chat = ChatOpenAI(\n",
    "    temperature = 0.1,\n",
    "    streaming = True,\n",
    "    callbacks = [\n",
    "        StreamingStdOutCallbackHandler()\n",
    "    ],\n",
    "    model=\"gpt-3.5-turbo\",\n",
    ")\n",
    "\n",
    "prompt1 = ChatPromptTemplate.from_messages([\n",
    "    (\"system\", \"You are AI that is specialized in writing Haikus \\nYou should output a Haikus about the programming language that human inputs. At the end of the Haikus, write two new line character\"),\n",
    "    (\"human\", \"{language}\"),\n",
    "])\n",
    "\n",
    "prompt2 = ChatPromptTemplate.from_messages([\n",
    "    (\"system\", \"You are AI that is specialized in explaining Haikus \\nYou should output a explanation about Haikus and explanation about {haikus}. Give a new line after each sentences\"),\n",
    "    (\"human\", \"{haikus}\"),\n",
    "])\n",
    "\n",
    "chain1 = prompt1 | chat\n",
    "chain2 = (\n",
    "    {\"haikus\" : chain1} | prompt2 | chat\n",
    ")\n",
    "\n",
    "chain2.invoke({\"language\":\"c++\"})"
   ]
  }
 ],
 "metadata": {
  "kernelspec": {
   "display_name": "env",
   "language": "python",
   "name": "python3"
  },
  "language_info": {
   "codemirror_mode": {
    "name": "ipython",
    "version": 3
   },
   "file_extension": ".py",
   "mimetype": "text/x-python",
   "name": "python",
   "nbconvert_exporter": "python",
   "pygments_lexer": "ipython3",
   "version": "3.11.6"
  }
 },
 "nbformat": 4,
 "nbformat_minor": 2
}
