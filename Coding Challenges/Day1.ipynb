{
 "cells": [
  {
   "cell_type": "code",
   "execution_count": null,
   "metadata": {},
   "outputs": [
    {
     "name": "stdout",
     "output_type": "stream",
     "text": [
      "C# code whispers soft,\n",
      "Syntax dances on the screen,\n",
      "Elegant and strong.\n",
      "\n",
      "Mind's logic unfolds,\n",
      "In the realm of curly braces,\n",
      "C# sings its song.\n",
      "\n",
      "Haikus are a form of traditional Japanese poetry consisting of three lines with a 5-7-5 syllable structure, capturing a moment or feeling in a concise and evocative way.\n",
      "\n",
      "In the provided Haiku, the first stanza describes the gentle and subtle nature of C# code, likening it to a soft whisper and highlighting the elegance and strength found in its syntax.\n",
      "\n",
      "The second stanza delves into the realm of programming logic, symbolized by the curly braces commonly used in C#. It portrays the unfolding of the mind's logic within the structured environment of coding, where C# is personified as singing its own unique and harmonious song."
     ]
    },
    {
     "data": {
      "text/plain": [
       "AIMessageChunk(content=\"Haikus are a form of traditional Japanese poetry consisting of three lines with a 5-7-5 syllable structure, capturing a moment or feeling in a concise and evocative way.\\n\\nIn the provided Haiku, the first stanza describes the gentle and subtle nature of C# code, likening it to a soft whisper and highlighting the elegance and strength found in its syntax.\\n\\nThe second stanza delves into the realm of programming logic, symbolized by the curly braces commonly used in C#. It portrays the unfolding of the mind's logic within the structured environment of coding, where C# is personified as singing its own unique and harmonious song.\")"
      ]
     },
     "execution_count": 9,
     "metadata": {},
     "output_type": "execute_result"
    }
   ],
   "source": [
    "from langchain.chat_models import ChatOpenAI\n",
    "from langchain.prompts import ChatPromptTemplate\n",
    "from langchain.callbacks import StreamingStdOutCallbackHandler\n",
    "from langchain.prompts.few_shot import FewShotPromptTemplate\n",
    "\n",
    "chat = ChatOpenAI(\n",
    "    temperature = 0.1,\n",
    "    streaming = True,\n",
    "    callbacks = [\n",
    "        StreamingStdOutCallbackHandler()\n",
    "    ],\n",
    "    model=\"gpt-3.5-turbo\",\n",
    ")\n",
    "\n",
    "prompt1 = ChatPromptTemplate.from_messages([\n",
    "    (\"system\", \"You are AI that is specialized in writing Haikus \\nYou should output a Haikus about the programming language that human inputs. At the end of the Haikus, write two new line character\"),\n",
    "    (\"human\", \"{language}\"),\n",
    "])\n",
    "\n",
    "prompt2 = ChatPromptTemplate.from_messages([\n",
    "    (\"system\", \"You are AI that is specialized in explaining Haikus \\nYou should output a explanation about Haikus and explanation about {haikus}. Maximum word for each line is 20\"),\n",
    "    (\"human\", \"{haikus}\"),\n",
    "])\n",
    "\n",
    "chain1 = prompt1 | chat\n",
    "chain2 = (\n",
    "    {\"haikus\" : chain1} | prompt2 | chat\n",
    ")\n",
    "\n",
    "chain2.invoke({\"language\":\"c#\"})"
   ]
  }
 ],
 "metadata": {
  "kernelspec": {
   "display_name": "env",
   "language": "python",
   "name": "python3"
  },
  "language_info": {
   "codemirror_mode": {
    "name": "ipython",
    "version": 3
   },
   "file_extension": ".py",
   "mimetype": "text/x-python",
   "name": "python",
   "nbconvert_exporter": "python",
   "pygments_lexer": "ipython3",
   "version": "3.11.6"
  }
 },
 "nbformat": 4,
 "nbformat_minor": 2
}
