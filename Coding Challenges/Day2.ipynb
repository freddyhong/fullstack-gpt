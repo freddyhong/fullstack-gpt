{
 "cells": [
  {
   "cell_type": "code",
   "execution_count": 4,
   "metadata": {},
   "outputs": [
    {
     "name": "stdout",
     "output_type": "stream",
     "text": [
      "AI: \n",
      "Here is what I know:\n",
      "Genre: Romance/Drama\n",
      "Director: James Cameron\n",
      "Main Casts: Leonardo DiCaprio, Kate Winslet, Billy Zane, Kathy Bates, Frances Fisher, Bill Paxton\n",
      "Budget (USD): $200 million\n",
      "Box Office Revenue (USD): $2.2 billion\n",
      "Synopsis: \n",
      "The film tells the story of the ill-fated RMS Titanic, focusing on the romance between Jack Dawson (Leonardo DiCaprio) and Rose DeWitt Bukater (Kate Winslet) as they navigate the ship's maiden voyage. The love story is set against the backdrop of the ship's tragic sinking after hitting an iceberg, resulting in one of the deadliest maritime disasters in history."
     ]
    },
    {
     "data": {
      "text/plain": [
       "AIMessageChunk(content=\"AI: \\nHere is what I know:\\nGenre: Romance/Drama\\nDirector: James Cameron\\nMain Casts: Leonardo DiCaprio, Kate Winslet, Billy Zane, Kathy Bates, Frances Fisher, Bill Paxton\\nBudget (USD): $200 million\\nBox Office Revenue (USD): $2.2 billion\\nSynopsis: \\nThe film tells the story of the ill-fated RMS Titanic, focusing on the romance between Jack Dawson (Leonardo DiCaprio) and Rose DeWitt Bukater (Kate Winslet) as they navigate the ship's maiden voyage. The love story is set against the backdrop of the ship's tragic sinking after hitting an iceberg, resulting in one of the deadliest maritime disasters in history.\")"
      ]
     },
     "execution_count": 4,
     "metadata": {},
     "output_type": "execute_result"
    }
   ],
   "source": [
    "from langchain.chat_models import ChatOpenAI\n",
    "from langchain.prompts import PromptTemplate\n",
    "from langchain.prompts.few_shot import FewShotPromptTemplate\n",
    "from langchain.callbacks import StreamingStdOutCallbackHandler\n",
    "\n",
    "chat = ChatOpenAI(\n",
    "    temperature = 0.1,\n",
    "    streaming = True,\n",
    "    callbacks = [\n",
    "        StreamingStdOutCallbackHandler()\n",
    "    ],\n",
    ")\n",
    "\n",
    "\n",
    "examples = [\n",
    "{\n",
    "\"question\": \"Tell me information about Avengers End Game\",\n",
    "\"answer\": \"\"\"\n",
    "Here is what I know:\n",
    "Genre: Action/Sci-fi\n",
    "Directors: Anthony Russo, Joe Russo\n",
    "Main Casts: Robert Downey Jr., Chris Evans, Scarlett Johansson, Chris Hemsworth, Mark Ruffalo, Jeremy Renner, Brie Larson, Paul Rudd\n",
    "Budget (USD): $356 million\n",
    "Box Office Revenue (USD): $2.8 billion \n",
    "Synopsis: \n",
    "The overwhelming devastation caused by the mad Titan Thanos has left what remains of the Avengers reeling. \n",
    "For a while, all hope seems lost... until an opportunity to reverse the damage is presented. \n",
    "Now, the team must assemble once more and do whatever it takes to restore the universe and bring those they lost back.\n",
    "\"\"\",\n",
    "},\n",
    "{\n",
    "\"question\": \"Tell me information about 500 Days of Summer\",\n",
    "\"answer\": \"\"\"\n",
    "Here is what I know:\n",
    "Genre: Comedy/Romance\n",
    "Directors: Marc Webb\n",
    "Main Casts: Joseph Gordon-Levitt, Zooey Deschanel, Chloë Grace Moretz, Minka Kelly, Geoffrey Arend, Matthew Gray Gubler, Clark Gregg, Rachel Boston\n",
    "Budget (USD): $7.5 million\n",
    "Box Office Revenue (USD): $60.7 million\n",
    "Synopsis: \n",
    "Tom (Joseph Gordon-Levitt), greeting-card writer and hopeless romantic, \n",
    "is caught completely off-guard when his girlfriend, Summer (Zooey Deschanel), suddenly dumps him. \n",
    "He reflects on their 500 days together to try to figure out where their love affair went sour, \n",
    "and in doing so, Tom rediscovers his true passions in life.\n",
    "\"\"\",\n",
    "},\n",
    "{\n",
    "\"question\": \"Tell me information about Dead Poets Society\",\n",
    "\"answer\": \"\"\"\n",
    "Here is what I know:\n",
    "Genre: Comedy/Drama\n",
    "Directors: Peter Weir\n",
    "Main Casts: Robin Williams, Robert Sean Leonard, Ethan Hawke, Gale Hansen, Josh Charles, Dylan Kussman, Allelon Ruggiero, James Waterston\n",
    "Budget (USD): $16.4 million\n",
    "Box Office Revenue (USD): $235 million\n",
    "Synopsis: \n",
    "A new English teacher, John Keating (Robin Williams),\n",
    "is introduced to an all-boys preparatory school that is known for its ancient traditions and high standards. \n",
    "He uses unorthodox methods to reach out to his students, who face enormous pressures from their parents and the school. \n",
    "With Keating's help, students Neil Perry (Robert Sean Leonard), \n",
    "Todd Anderson (Ethan Hawke) and others learn to break out of their shells, pursue their dreams and seize the day.\n",
    "\"\"\",\n",
    "},\n",
    "]\n",
    "\n",
    "example_prompt = PromptTemplate.from_template(\"Human: {question} \\nAI: {answer}\") # \"question\" and \"answer\" should be same with the examples!\n",
    "\n",
    "prompt = FewShotPromptTemplate(\n",
    "    example_prompt = example_prompt, \n",
    "    examples = examples,\n",
    "    suffix = \"Human: What do you know about {movie}?\", # Our question\n",
    "    input_variables = [\"movie\"]\n",
    ")\n",
    "\n",
    "prompt.format(movie = \"titanic\")\n",
    "chain = prompt | chat\n",
    "\n",
    "chain.invoke({\n",
    "    \"movie\" : \"titanic\"\n",
    "})"
   ]
  }
 ],
 "metadata": {
  "kernelspec": {
   "display_name": "env",
   "language": "python",
   "name": "python3"
  },
  "language_info": {
   "codemirror_mode": {
    "name": "ipython",
    "version": 3
   },
   "file_extension": ".py",
   "mimetype": "text/x-python",
   "name": "python",
   "nbconvert_exporter": "python",
   "pygments_lexer": "ipython3",
   "version": "3.11.6"
  }
 },
 "nbformat": 4,
 "nbformat_minor": 2
}
