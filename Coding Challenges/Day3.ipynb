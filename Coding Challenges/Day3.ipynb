{
 "cells": [
  {
   "cell_type": "code",
   "execution_count": null,
   "metadata": {},
   "outputs": [
    {
     "data": {
      "text/plain": [
       "'🚀🎶👽'"
      ]
     },
     "execution_count": 26,
     "metadata": {},
     "output_type": "execute_result"
    }
   ],
   "source": [
    "from langchain.memory import ConversationBufferWindowMemory\n",
    "from langchain.chat_models import ChatOpenAI\n",
    "from langchain.callbacks import StreamingStdOutCallbackHandler\n",
    "from langchain.prompts import PromptTemplate, MessagesPlaceholder, ChatPromptTemplate\n",
    "from langchain.prompts.few_shot import FewShotChatMessagePromptTemplate\n",
    "from langchain.chains import LLMChain\n",
    "\n",
    "llm = ChatOpenAI(temperature=0.1)\n",
    "\n",
    "memory = ConversationBufferWindowMemory(\n",
    "    llm = llm,\n",
    "    return_messages=True,\n",
    "    k=10, # number of \"most recent\" message to save\n",
    "    memory_key=\"chat_history\",\n",
    ")\n",
    "\n",
    "examples = [\n",
    "{\n",
    "\"question\": \"Top Gun\",\n",
    "\"answer\": \"🛩️👨‍✈️🔥\",\n",
    "},\n",
    "{\n",
    "\"question\": \"Godfather\",\n",
    "\"answer\": \"👨‍👨‍👦🔫🍝\",\n",
    "},\n",
    "{\n",
    "\"question\": \"Starwars\",\n",
    "\"answer\":\"✨🚀🛡️\",\n",
    "},\n",
    "]\n",
    "example_prompt = ChatPromptTemplate.from_template(\"Human: {question} \\nAI: {answer}\") # \"question\" and \"answer\" should be same with the examples!\n",
    "\n",
    "prompt = FewShotChatMessagePromptTemplate(\n",
    "    example_prompt = example_prompt, \n",
    "    examples = examples,\n",
    ")\n",
    "\n",
    "final_prompt = ChatPromptTemplate.from_messages([\n",
    "    (\"system\" , \"You need to describe movies with three emoji\"),\n",
    "    MessagesPlaceholder(variable_name=\"chat_history\"),\n",
    "    prompt,\n",
    "    (\"human\", \"{question}\")\n",
    "])\n",
    "\n",
    "chain = LLMChain(\n",
    "    llm=llm,\n",
    "    memory=memory,\n",
    "    prompt=final_prompt,\n",
    ")\n",
    "chain.run({\"question\":\"Interstella\"})"
   ]
  },
  {
   "cell_type": "code",
   "execution_count": 28,
   "metadata": {},
   "outputs": [
    {
     "data": {
      "text/plain": [
       "'⏰🔥🚗'"
      ]
     },
     "execution_count": 28,
     "metadata": {},
     "output_type": "execute_result"
    }
   ],
   "source": [
    "chain.run({\"question\":\"Back to the future\"})"
   ]
  },
  {
   "cell_type": "code",
   "execution_count": 29,
   "metadata": {},
   "outputs": [
    {
     "data": {
      "text/plain": [
       "'You asked about \"Interstella.\"'"
      ]
     },
     "execution_count": 29,
     "metadata": {},
     "output_type": "execute_result"
    }
   ],
   "source": [
    "chain.run(\"what is the first movie I asked you?\")"
   ]
  }
 ],
 "metadata": {
  "kernelspec": {
   "display_name": "env",
   "language": "python",
   "name": "python3"
  },
  "language_info": {
   "codemirror_mode": {
    "name": "ipython",
    "version": 3
   },
   "file_extension": ".py",
   "mimetype": "text/x-python",
   "name": "python",
   "nbconvert_exporter": "python",
   "pygments_lexer": "ipython3",
   "version": "3.11.6"
  }
 },
 "nbformat": 4,
 "nbformat_minor": 2
}
