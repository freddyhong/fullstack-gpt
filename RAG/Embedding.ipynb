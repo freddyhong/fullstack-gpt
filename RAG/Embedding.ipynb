{
 "cells": [
  {
   "cell_type": "code",
   "execution_count": null,
   "metadata": {},
   "outputs": [],
   "source": [
    "# example of vector\n",
    "\"\"\"\n",
    "        Masculinity | Femininity | Royalty\n",
    "\n",
    "King        0.9           0.1         1\n",
    "Queen       0.1           0.9         1\n",
    "man         0.9           0.1         0\n",
    "king - man = 0.0           0          1    = royal\n",
    "\"\"\""
   ]
  },
  {
   "cell_type": "code",
   "execution_count": null,
   "metadata": {},
   "outputs": [
    {
     "data": {
      "text/plain": [
       "'The additional context provides a more detailed description of Victory Mansions from the opening scene of \"1984.\" As Winston enters the building, the atmosphere is depicted as bleak and oppressive, with the smell of boiled cabbage and old rag mats permeating the hallway. The building itself is described as rundown, with the elevator often not working and the electric current cut off during daylight hours as part of an economy drive for Hate Week. \\n\\nThe presence of the poster featuring the enormous face of Big Brother on each landing, with the caption \"BIG BROTHER IS WATCHING YOU,\" adds to the sense of surveillance and control in Victory Mansions. The telescreen, a constant presence in Winston\\'s apartment, further reinforces the idea of constant monitoring and lack of privacy within the building.\\n\\nOverall, Victory Mansions serves as a stark setting that reflects the oppressive and authoritarian nature of the Party in \"1984,\" highlighting the themes of surveillance, control, and the suppression of individuality. Winston\\'s living space in Victory Mansions becomes a battleground for his rebellious thoughts and actions against the Party\\'s strict rules and regulations.'"
      ]
     },
     "execution_count": 5,
     "metadata": {},
     "output_type": "execute_result"
    }
   ],
   "source": [
    "from langchain.chat_models import ChatOpenAI\n",
    "from langchain.document_loaders import UnstructuredFileLoader, TextLoader\n",
    "from langchain.text_splitter import CharacterTextSplitter\n",
    "from langchain.embeddings import OpenAIEmbeddings, CacheBackedEmbeddings\n",
    "from langchain.vectorstores import FAISS\n",
    "from langchain.storage import LocalFileStore\n",
    "from langchain.chains import RetrievalQA\n",
    "\n",
    "llm = ChatOpenAI()\n",
    "\n",
    "cache_dir = LocalFileStore(\"../.cache/\")\n",
    "\n",
    "splitter = CharacterTextSplitter.from_tiktoken_encoder(\n",
    "    separator=\"\\n\",\n",
    "    chunk_size=600,\n",
    "    chunk_overlap=100,\n",
    ")\n",
    "loader = TextLoader(\"./Files/chapter1.txt\")\n",
    "\n",
    "docs = loader.load_and_split(text_splitter=splitter)\n",
    "\n",
    "embeddings = OpenAIEmbeddings()\n",
    "\n",
    "cached_embeddings = CacheBackedEmbeddings.from_bytes_store(embeddings, cache_dir)\n",
    "\n",
    "vectorstore = FAISS.from_documents(docs, cached_embeddings)\n",
    "\n",
    "chain = RetrievalQA.from_chain_type(\n",
    "    llm=llm,\n",
    "    chain_type=\"refine\",\n",
    "    retriever=vectorstore.as_retriever(),\n",
    ")\n",
    "\n",
    "# Ensure that the chain is correctly set up and run the query\n",
    "chain.run(\"describe victory mansions\")"
   ]
  }
 ],
 "metadata": {
  "kernelspec": {
   "display_name": "env",
   "language": "python",
   "name": "python3"
  },
  "language_info": {
   "codemirror_mode": {
    "name": "ipython",
    "version": 3
   },
   "file_extension": ".py",
   "mimetype": "text/x-python",
   "name": "python",
   "nbconvert_exporter": "python",
   "pygments_lexer": "ipython3",
   "version": "3.11.6"
  }
 },
 "nbformat": 4,
 "nbformat_minor": 2
}
