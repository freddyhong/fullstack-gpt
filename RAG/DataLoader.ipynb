{
 "cells": [
  {
   "cell_type": "code",
   "execution_count": 4,
   "metadata": {},
   "outputs": [],
   "source": [
    "from langchain.chat_models import ChatOpenAI\n",
    "from langchain.document_loaders import TextLoader, PyPDFLoader, UnstructuredFileLoader\n",
    "\n",
    "loader1 = TextLoader(\"./Files/chapter1.txt\")\n",
    "loader2 = PyPDFLoader(\"./Files/chapter1.pdf\")\n",
    "loader3 = UnstructuredFileLoader(\"./Files/chapter1.docx\")  # any type of files can work"
   ]
  },
  {
   "cell_type": "code",
   "execution_count": null,
   "metadata": {},
   "outputs": [
    {
     "data": {
      "text/plain": [
       "3675"
      ]
     },
     "execution_count": 8,
     "metadata": {},
     "output_type": "execute_result"
    }
   ],
   "source": [
    "# Splitting Document\n",
    "from langchain.text_splitter import RecursiveCharacterTextSplitter, CharacterTextSplitter\n",
    "\n",
    "splitter = RecursiveCharacterTextSplitter(\n",
    "    chunk_size = 200,\n",
    "    chunk_overlap = 50,  # overlap the last part of the previous document\n",
    ")\n",
    "splitter2 = CharacterTextSplitter(\n",
    "    # split by new line character\n",
    "    seperator = \"\\n\",\n",
    "    chunk_size = 600,\n",
    "    chunk_overlap = 100, \n",
    ")\n",
    "split = loader1.load_and_split(text_splitter = splitter)\n",
    "len(split)"
   ]
  },
  {
   "cell_type": "code",
   "execution_count": null,
   "metadata": {},
   "outputs": [],
   "source": [
    "# Token\n",
    "splitter2 = CharacterTextSplitter.from_tiktoken_encoder(\n",
    "    # count as tokens (how model counds)\n",
    "    seperator = \"\\n\",\n",
    "    chunk_size = 600,\n",
    "    chunk_overlap = 100, \n",
    ")"
   ]
  }
 ],
 "metadata": {
  "kernelspec": {
   "display_name": "env",
   "language": "python",
   "name": "python3"
  },
  "language_info": {
   "codemirror_mode": {
    "name": "ipython",
    "version": 3
   },
   "file_extension": ".py",
   "mimetype": "text/x-python",
   "name": "python",
   "nbconvert_exporter": "python",
   "pygments_lexer": "ipython3",
   "version": "3.11.6"
  }
 },
 "nbformat": 4,
 "nbformat_minor": 2
}
